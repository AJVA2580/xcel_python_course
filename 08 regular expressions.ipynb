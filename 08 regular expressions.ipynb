{
 "cells": [
  {
   "cell_type": "code",
   "execution_count": 3,
   "metadata": {
    "scrolled": true
   },
   "outputs": [
    {
     "name": "stdout",
     "output_type": "stream",
     "text": [
      "matchObj.group() :  Xcel Alliance is offering python courses\n",
      "matchObj.group(1) :  Xcel Alliance\n",
      "matchObj.group(2) :  offering\n"
     ]
    }
   ],
   "source": [
    "import re\n",
    "\n",
    "line = \"Xcel Alliance is offering python courses\"\n",
    "\n",
    "matchObj = re.match( r'(.*) is (.*?) .*', line, re.M|re.I)\n",
    "\n",
    "'''\n",
    "<.*>  Greedy repetition: matches \"<python>perl>\"\n",
    "<.*?> Nongreedy: matches \"<python>\" in \"<python>perl>\"\n",
    "'''\n",
    "\n",
    "if matchObj:\n",
    "   print(\"matchObj.group() : \", matchObj.group())\n",
    "   print(\"matchObj.group(1) : \", matchObj.group(1))\n",
    "   print(\"matchObj.group(2) : \", matchObj.group(2))\n",
    "else:\n",
    "   print(\"No match!!\")"
   ]
  },
  {
   "cell_type": "code",
   "execution_count": 8,
   "metadata": {},
   "outputs": [
    {
     "name": "stdout",
     "output_type": "stream",
     "text": [
      "hai@gmail\n"
     ]
    }
   ],
   "source": [
    "str = 'blah blah noman.hai@gmail.com and nomanhai@gmail.com are two different emails'\n",
    "match = re.search(r'\\w+@\\w+', str)\n",
    "if match:\n",
    "    print(match.group())"
   ]
  },
  {
   "cell_type": "code",
   "execution_count": 10,
   "metadata": {},
   "outputs": [
    {
     "name": "stdout",
     "output_type": "stream",
     "text": [
      "noman.hai@gmail.com\n"
     ]
    }
   ],
   "source": [
    "str = 'blah blah noman.hai@gmail.com and nomanhai@gmail.com are two different emails'\n",
    "match = re.search(r'[\\w.]+@[\\w.]+', str)\n",
    "if match:\n",
    "    print(match.group())"
   ]
  },
  {
   "cell_type": "markdown",
   "metadata": {},
   "source": [
    "As can see that it just matches the first instance and stops.\n",
    "to find all the matched strings, findall function can be used as shown below:"
   ]
  },
  {
   "cell_type": "code",
   "execution_count": 13,
   "metadata": {},
   "outputs": [
    {
     "name": "stdout",
     "output_type": "stream",
     "text": [
      "noman.hai@gmail.com\n",
      "nomanhai@gmail.com\n"
     ]
    }
   ],
   "source": [
    "str = 'blah blah noman.hai@gmail.com and nomanhai@gmail.com are two different emails'\n",
    "emails = re.findall(r'[\\w.]+@[\\w.]+', str)\n",
    "for email in emails:\n",
    "    print(email)"
   ]
  },
  {
   "cell_type": "code",
   "execution_count": 14,
   "metadata": {
    "scrolled": true
   },
   "outputs": [
    {
     "name": "stdout",
     "output_type": "stream",
     "text": [
      "blah blah noman.hai@xcelalliance.com and nomanhai@xcelalliance.com are two different emails\n"
     ]
    }
   ],
   "source": [
    "str = 'blah blah noman.hai@gmail.com and nomanhai@gmail.com are two different emails'\n",
    "## re.sub(pat, replacement, str) -- returns new string with all replacements,\n",
    "## \\1 is group(1), \\2 group(2) in the replacement\n",
    "print(re.sub(r'([\\w\\.-]+)@([\\w\\.-]+)', r'\\1@xcelalliance.com', str))"
   ]
  },
  {
   "cell_type": "code",
   "execution_count": 37,
   "metadata": {},
   "outputs": [
    {
     "name": "stdout",
     "output_type": "stream",
     "text": [
      "2,The Godfather,\"Francis Ford Coppola (dir.), Marlon Brando, Al Pacino\",1972,9.2\n",
      "3,The Godfather: Part II,\"Francis Ford Coppola (dir.), Al Pacino, Robert De Niro\",1974,9\n",
      "105,Scarface,\"Brian De Palma (dir.), Al Pacino, Michelle Pfeiffer\",1983,8.2\n",
      "122,Heat,\"Michael Mann (dir.), Al Pacino, Robert De Niro\",1995,8.2\n"
     ]
    }
   ],
   "source": [
    "import re\n",
    "with open('imdb.txt', 'r', encoding = \"ISO-8859-1\") as imdb:\n",
    "    for line in imdb:\n",
    "        alpacino = re.match( r'.* Al Pacino.*', line, re.M|re.I)\n",
    "        if alpacino:\n",
    "            print(alpacino.group())"
   ]
  }
 ],
 "metadata": {
  "kernelspec": {
   "display_name": "Python 3",
   "language": "python",
   "name": "python3"
  },
  "language_info": {
   "codemirror_mode": {
    "name": "ipython",
    "version": 3
   },
   "file_extension": ".py",
   "mimetype": "text/x-python",
   "name": "python",
   "nbconvert_exporter": "python",
   "pygments_lexer": "ipython3",
   "version": "3.7.0"
  }
 },
 "nbformat": 4,
 "nbformat_minor": 2
}
