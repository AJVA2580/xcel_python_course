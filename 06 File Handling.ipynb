{
 "cells": [
  {
   "cell_type": "code",
   "execution_count": 1,
   "metadata": {},
   "outputs": [],
   "source": [
    "f = open('workfile', 'w')"
   ]
  },
  {
   "cell_type": "code",
   "execution_count": 2,
   "metadata": {},
   "outputs": [
    {
     "name": "stdout",
     "output_type": "stream",
     "text": [
      "<_io.TextIOWrapper name='workfile' mode='w' encoding='UTF-8'>\n"
     ]
    }
   ],
   "source": [
    "print(f)"
   ]
  },
  {
   "cell_type": "code",
   "execution_count": null,
   "metadata": {},
   "outputs": [],
   "source": [
    "dir(f) #check what fuctions are available"
   ]
  },
  {
   "cell_type": "code",
   "execution_count": 7,
   "metadata": {},
   "outputs": [
    {
     "data": {
      "text/plain": [
       "'Dear participants\\nthis is the first line\\nsecond line\\nhope you enjoying the course\\nregards, Noman Hai'"
      ]
     },
     "execution_count": 7,
     "metadata": {},
     "output_type": "execute_result"
    }
   ],
   "source": [
    "f = open('xcel.txt', 'r')\n",
    "f.read()"
   ]
  },
  {
   "cell_type": "code",
   "execution_count": 9,
   "metadata": {},
   "outputs": [
    {
     "data": {
      "text/plain": [
       "'Dear participants\\n'"
      ]
     },
     "execution_count": 9,
     "metadata": {},
     "output_type": "execute_result"
    }
   ],
   "source": [
    "f = open('xcel.txt', 'r')\n",
    "f.readline()"
   ]
  },
  {
   "cell_type": "code",
   "execution_count": 10,
   "metadata": {},
   "outputs": [
    {
     "data": {
      "text/plain": [
       "'this is the first line\\n'"
      ]
     },
     "execution_count": 10,
     "metadata": {},
     "output_type": "execute_result"
    }
   ],
   "source": [
    "f.readline()"
   ]
  },
  {
   "cell_type": "code",
   "execution_count": 42,
   "metadata": {},
   "outputs": [
    {
     "name": "stdout",
     "output_type": "stream",
     "text": [
      "Read String is :  Dear parti\n",
      "Current file position :  10\n",
      "Again read String is :  first line\n"
     ]
    }
   ],
   "source": [
    "# Open a file\n",
    "fo = open(\"xcel.txt\", \"r+\")\n",
    "str = fo.read(10);\n",
    "print (\"Read String is : \", str)\n",
    "\n",
    "# Check current position\n",
    "position = fo.tell();\n",
    "print (\"Current file position : \", position)\n",
    "\n",
    "# Reposition pointer at the beginning once again\n",
    "position = fo.seek(30, 0); #goto 30th byte \n",
    "str = fo.read(10);\n",
    "print (\"Again read String is : \", str)\n",
    "# Close opend file\n",
    "fo.close()"
   ]
  },
  {
   "cell_type": "code",
   "execution_count": 30,
   "metadata": {
    "scrolled": true
   },
   "outputs": [
    {
     "name": "stdout",
     "output_type": "stream",
     "text": [
      "Help on built-in function seek:\n",
      "\n",
      "seek(cookie, whence=0, /) method of _io.TextIOWrapper instance\n",
      "    Change stream position.\n",
      "    \n",
      "    Change the stream position to the given byte offset. The offset is\n",
      "    interpreted relative to the position indicated by whence.  Values\n",
      "    for whence are:\n",
      "    \n",
      "    * 0 -- start of stream (the default); offset should be zero or positive\n",
      "    * 1 -- current stream position; offset may be negative\n",
      "    * 2 -- end of stream; offset is usually negative\n",
      "    \n",
      "    Return the new absolute position.\n",
      "\n"
     ]
    }
   ],
   "source": [
    "help(fo.seek)"
   ]
  },
  {
   "cell_type": "code",
   "execution_count": 10,
   "metadata": {},
   "outputs": [],
   "source": [
    "imdb = open('imdb.txt', 'r', encoding = \"ISO-8859-1\")"
   ]
  },
  {
   "cell_type": "code",
   "execution_count": 11,
   "metadata": {},
   "outputs": [
    {
     "data": {
      "text/plain": [
       "'Rank,Movie,Cast,Year,IMDB Rating\\n1,The Shawshank Redemption,\"Frank Darabont (dir.), Tim Robbins, Morgan Freeman\",1994,9.2\\n2,The Godfather,\"Francis Ford Coppola (dir.), Marlon Brando, Al Pacino\",1972,9.2\\n3,The Godfather: Part II,\"Francis Ford Coppola (dir.), Al Pacino, Robert De Niro\",1974,9\\n4,The Dark Knight,\"Christopher Nolan (dir.), Christian Bale, Heath Ledger\",2008,9\\n5,12 Angry Men,\"Sidney Lumet (dir.), Henry Fonda, Lee J. Cobb\",1957,8.9\\n6,Schindler\\'s List,\"Steven Spielberg (dir.), Liam Neeson, Ralph Fiennes\",1993,8.9\\n7,The Lord of the Rings: The Return of the King,\"Peter Jackson (dir.), Elijah Wood, Viggo Mortensen\",2003,8.9\\n8,Pulp Fiction,\"Quentin Tarantino (dir.), John Travolta, Uma Thurman\",1994,8.9\\n9,\"Il buono, il brutto, il cattivo\",\"Sergio Leone (dir.), Clint Eastwood, Eli Wallach\",1966,8.8\\n10,Fight Club,\"David Fincher (dir.), Brad Pitt, Edward Norton\",1999,8.8\\n11,The Lord of the Rings: The Fellowship of the Ring,\"Peter Jackson (dir.), Elijah Wood, Ian McKellen\",2001,8.8\\n12,Forrest Gump,\"Robert Zemeckis (dir.), Tom Hanks, Robin Wright\",1994,8.7\\n13,Star Wars: Episode V - The Empire Strikes Back,\"Irvin Kershner (dir.), Mark Hamill, Harrison Ford\",1980,8.7\\n14,Inception,\"Christopher Nolan (dir.), Leonardo DiCaprio, Joseph Gordon-Levitt\",2010,8.7\\n15,The Lord of the Rings: The Two Towers,\"Peter Jackson (dir.), Elijah Wood, Ian McKellen\",2002,8.7\\n16,One Flew Over the Cuckoo\\'s Nest,\"Milos Forman (dir.), Jack Nicholson, Louise Fletcher\",1975,8.7\\n17,Goodfellas,\"Martin Scorsese (dir.), Robert De Niro, Ray Liotta\",1990,8.7\\n18,The Matrix,\"Lana Wachowski (dir.), Keanu Reeves, Laurence Fishburne\",1999,8.6\\n19,Shichinin no samurai,\"Akira Kurosawa (dir.), ToshirÌ« Mifune, Takashi Shimura\",1954,8.6\\n20,Cidade de Deus,\"Fernando Meirelles (dir.), Alexandre Rodrigues, Leandro Firmino\",2002,8.6\\n21,Se7en,\"David Fincher (dir.), Morgan Freeman, Brad Pitt\",1995,8.6\\n22,Star Wars,\"George Lucas (dir.), Mark Hamill, Harrison Ford\",1977,8.6\\n23,The Silence of the Lambs,\"Jonathan Demme (dir.), Jodie Foster, Anthony Hopkins\",1991,8.6\\n24,It\\'s a Wonderful Life,\"Frank Capra (dir.), James Stewart, Donna Reed\",1946,8.6\\n25,La vita Ì¬ bella,\"Roberto Benigni (dir.), Roberto Benigni, Nicoletta Braschi\",1997,8.6\\n26,The Usual Suspects,\"Bryan Singer (dir.), Kevin Spacey, Gabriel Byrne\",1995,8.5\\n27,Sen to Chihiro no kamikakushi,\"Hayao Miyazaki (dir.), Daveigh Chase, Suzanne Pleshette\",2001,8.5\\n28,Saving Private Ryan,\"Steven Spielberg (dir.), Tom Hanks, Matt Damon\",1998,8.5\\n29,LÌ©on,\"Luc Besson (dir.), Jean Reno, Gary Oldman\",1994,8.5\\n30,The Green Mile,\"Frank Darabont (dir.), Tom Hanks, Michael Clarke Duncan\",1999,8.5\\n31,Interstellar,\"Christopher Nolan (dir.), Matthew McConaughey, Anne Hathaway\",2014,8.5\\n32,Psycho,\"Alfred Hitchcock (dir.), Anthony Perkins, Janet Leigh\",1960,8.5\\n33,American History X,\"Tony Kaye (dir.), Edward Norton, Edward Furlong\",1998,8.5\\n34,City Lights,\"Charles Chaplin (dir.), Charles Chaplin, Virginia Cherrill\",1931,8.5\\n35,Once Upon a Time in the West,\"Sergio Leone (dir.), Henry Fonda, Charles Bronson\",1968,8.5\\n36,Casablanca,\"Michael Curtiz (dir.), Humphrey Bogart, Ingrid Bergman\",1942,8.5\\n37,Modern Times,\"Charles Chaplin (dir.), Charles Chaplin, Paulette Goddard\",1936,8.5\\n38,The Intouchables,\"Olivier Nakache (dir.), FranÌ¤ois Cluzet, Omar Sy\",2011,8.5\\n39,The Pianist,\"Roman Polanski (dir.), Adrien Brody, Thomas Kretschmann\",2002,8.5\\n40,The Departed,\"Martin Scorsese (dir.), Leonardo DiCaprio, Matt Damon\",2006,8.5\\n41,Terminator 2: Judgment Day,\"James Cameron (dir.), Arnold Schwarzenegger, Linda Hamilton\",1991,8.5\\n42,Back to the Future,\"Robert Zemeckis (dir.), Michael J. Fox, Christopher Lloyd\",1985,8.5\\n43,Whiplash,\"Damien Chazelle (dir.), Miles Teller, J.K. Simmons\",2014,8.5\\n44,Rear Window,\"Alfred Hitchcock (dir.), James Stewart, Grace Kelly\",1954,8.5\\n45,Raiders of the Lost Ark,\"Steven Spielberg (dir.), Harrison Ford, Karen Allen\",1981,8.5\\n46,Gladiator,\"Ridley Scott (dir.), Russell Crowe, Joaquin Phoenix\",2000,8.5\\n47,The Lion King,\"Roger Allers (dir.), Matthew Broderick, Jeremy Irons\",1994,8.5\\n48,The Prestige,\"Christopher Nolan (dir.), Christian Bale, Hugh Jackman\",2006,8.5\\n49,Avengers: Infinity War,\"Anthony Russo (dir.), Robert Downey Jr., Chris Hemsworth\",2018,8.4\\n50,Memento,\"Christopher Nolan (dir.), Guy Pearce, Carrie-Anne Moss\",2000,8.4\\n51,Apocalypse Now,\"Francis Ford Coppola (dir.), Martin Sheen, Marlon Brando\",1979,8.4\\n52,Alien,\"Ridley Scott (dir.), Sigourney Weaver, Tom Skerritt\",1979,8.4\\n53,The Great Dictator,\"Charles Chaplin (dir.), Charles Chaplin, Paulette Goddard\",1940,8.4\\n54,Nuovo Cinema Paradiso,\"Giuseppe Tornatore (dir.), Philippe Noiret, Enzo Cannavale\",1988,8.4\\n55,Hotaru no haka,\"Isao Takahata (dir.), Tsutomu Tatsumi, Ayano Shiraishi\",1988,8.4\\n56,Sunset Blvd.,\"Billy Wilder (dir.), William Holden, Gloria Swanson\",1950,8.4\\n57,The Lives of Others,\"Florian Henckel von Donnersmarck (dir.), Ulrich MÌ_he, Martina Gedeck\",2006,8.4\\n58,Dr. Strangelove or: How I Learned to Stop Worrying and Love the Bomb,\"Stanley Kubrick (dir.), Peter Sellers, George C. Scott\",1964,8.4\\n59,Paths of Glory,\"Stanley Kubrick (dir.), Kirk Douglas, Ralph Meeker\",1957,8.4\\n60,The Shining,\"Stanley Kubrick (dir.), Jack Nicholson, Shelley Duvall\",1980,8.4\\n61,Django Unchained,\"Quentin Tarantino (dir.), Jamie Foxx, Christoph Waltz\",2012,8.4\\n62,WALLåáE,\"Andrew Stanton (dir.), Ben Burtt, Elissa Knight\",2008,8.4\\n63,Mononoke-hime,\"Hayao Miyazaki (dir.), YÌ«ji Matsuda, Yuriko Ishida\",1997,8.4\\n64,Witness for the Prosecution,\"Billy Wilder (dir.), Tyrone Power, Marlene Dietrich\",1957,8.4\\n65,American Beauty,\"Sam Mendes (dir.), Kevin Spacey, Annette Bening\",1999,8.4\\n66,The Dark Knight Rises,\"Christopher Nolan (dir.), Christian Bale, Tom Hardy\",2012,8.4\\n67,Coco,\"Lee Unkrich (dir.), Anthony Gonzalez, Gael GarcÌ_a Bernal\",2017,8.4\\n68,Oldeuboi,\"Chan-wook Park (dir.), Min-sik Choi, Ji-tae Yu\",2003,8.3\\n69,Aliens,\"James Cameron (dir.), Sigourney Weaver, Michael Biehn\",1986,8.3\\n70,Once Upon a Time in America,\"Sergio Leone (dir.), Robert De Niro, James Woods\",1984,8.3\\n71,Das Boot,\"Wolfgang Petersen (dir.), JÌ_rgen Prochnow, Herbert GrÌ¦nemeyer\",1981,8.3\\n72,Citizen Kane,\"Orson Welles (dir.), Orson Welles, Joseph Cotten\",1941,8.3\\n73,Braveheart,\"Mel Gibson (dir.), Mel Gibson, Sophie Marceau\",1995,8.3\\n74,Vertigo,\"Alfred Hitchcock (dir.), James Stewart, Kim Novak\",1958,8.3\\n75,North by Northwest,\"Alfred Hitchcock (dir.), Cary Grant, Eva Marie Saint\",1959,8.3\\n76,Reservoir Dogs,\"Quentin Tarantino (dir.), Harvey Keitel, Tim Roth\",1992,8.3\\n77,Star Wars: Episode VI - Return of the Jedi,\"Richard Marquand (dir.), Mark Hamill, Harrison Ford\",1983,8.3\\n78,Kimi no na wa.,\"Makoto Shinkai (dir.), RyÌÈnosuke Kamiki, Mone Kamishiraishi\",2016,8.3\\n79,M - Eine Stadt sucht einen MÌ¦rder,\"Fritz Lang (dir.), Peter Lorre, Ellen Widmann\",1931,8.3\\n80,Dangal,\"Nitesh Tiwari (dir.), Aamir Khan, Sakshi Tanwar\",2016,8.3\\n81,Requiem for a Dream,\"Darren Aronofsky (dir.), Ellen Burstyn, Jared Leto\",2000,8.3\\n82,Amadeus,\"Milos Forman (dir.), F. Murray Abraham, Tom Hulce\",1984,8.3\\n83,Taare Zameen Par,\"Aamir Khan (dir.), Darsheel Safary, Aamir Khan\",2007,8.3\\n84,Lawrence of Arabia,\"David Lean (dir.), Peter O\\'Toole, Alec Guinness\",1962,8.3\\n85,Eternal Sunshine of the Spotless Mind,\"Michel Gondry (dir.), Jim Carrey, Kate Winslet\",2004,8.3\\n86,A Clockwork Orange,\"Stanley Kubrick (dir.), Malcolm McDowell, Patrick Magee\",1971,8.3\\n87,AmÌ©lie,\"Jean-Pierre Jeunet (dir.), Audrey Tautou, Mathieu Kassovitz\",2001,8.3\\n88,Double Indemnity,\"Billy Wilder (dir.), Fred MacMurray, Barbara Stanwyck\",1944,8.3\\n89,3 Idiots,\"Rajkumar Hirani (dir.), Aamir Khan, Madhavan\",2009,8.3\\n90,2001: A Space Odyssey,\"Stanley Kubrick (dir.), Keir Dullea, Gary Lockwood\",1968,8.3\\n91,Toy Story,\"John Lasseter (dir.), Tom Hanks, Tim Allen\",1995,8.3\\n92,Taxi Driver,\"Martin Scorsese (dir.), Robert De Niro, Jodie Foster\",1976,8.3\\n93,Singin\\' in the Rain,\"Stanley Donen (dir.), Gene Kelly, Donald O\\'Connor\",1952,8.3\\n94,Full Metal Jacket,\"Stanley Kubrick (dir.), Matthew Modine, R. Lee Ermey\",1987,8.3\\n95,Inglourious Basterds,\"Quentin Tarantino (dir.), Brad Pitt, Diane Kruger\",2009,8.3\\n96,To Kill a Mockingbird,\"Robert Mulligan (dir.), Gregory Peck, John Megna\",1962,8.3\\n97,Ladri di biciclette,\"Vittorio De Sica (dir.), Lamberto Maggiorani, Enzo Staiola\",1948,8.3\\n98,The Kid,\"Charles Chaplin (dir.), Charles Chaplin, Edna Purviance\",1921,8.3\\n99,The Sting,\"George Roy Hill (dir.), Paul Newman, Robert Redford\",1973,8.3\\n100,Toy Story 3,\"Lee Unkrich (dir.), Tom Hanks, Tim Allen\",2010,8.3\\n101,Good Will Hunting,\"Gus Van Sant (dir.), Robin Williams, Matt Damon\",1997,8.3\\n102,Jagten,\"Thomas Vinterberg (dir.), Mads Mikkelsen, Thomas Bo Larsen\",2012,8.3\\n103,Snatch,\"Guy Ritchie (dir.), Jason Statham, Brad Pitt\",2000,8.3\\n104,Monty Python and the Holy Grail,\"Terry Gilliam (dir.), Graham Chapman, John Cleese\",1975,8.2\\n105,Scarface,\"Brian De Palma (dir.), Al Pacino, Michelle Pfeiffer\",1983,8.2\\n106,Per qualche dollaro in piÌ_,\"Sergio Leone (dir.), Clint Eastwood, Lee Van Cleef\",1965,8.2\\n107,L.A. Confidential,\"Curtis Hanson (dir.), Kevin Spacey, Russell Crowe\",1997,8.2\\n108,The Apartment,\"Billy Wilder (dir.), Jack Lemmon, Shirley MacLaine\",1960,8.2\\n109,Metropolis,\"Fritz Lang (dir.), Brigitte Helm, Alfred Abel\",1927,8.2\\n110,Jodaeiye Nader az Simin,\"Asghar Farhadi (dir.), Payman Maadi, Leila Hatami\",2011,8.2\\n111,Indiana Jones and the Last Crusade,\"Steven Spielberg (dir.), Harrison Ford, Sean Connery\",1989,8.2\\n112,RashÌ«mon,\"Akira Kurosawa (dir.), ToshirÌ« Mifune, Machiko KyÌ«\",1950,8.2\\n113,Up,\"Pete Docter (dir.), Edward Asner, Jordan Nagai\",2009,8.2\\n114,All About Eve,\"Joseph L. Mankiewicz (dir.), Bette Davis, Anne Baxter\",1950,8.2\\n115,YÌ«jinbÌ«,\"Akira Kurosawa (dir.), ToshirÌ« Mifune, EijirÌ« TÌ«no\",1961,8.2\\n116,Batman Begins,\"Christopher Nolan (dir.), Christian Bale, Michael Caine\",2005,8.2\\n117,Some Like It Hot,\"Billy Wilder (dir.), Marilyn Monroe, Tony Curtis\",1959,8.2\\n118,Unforgiven,\"Clint Eastwood (dir.), Clint Eastwood, Gene Hackman\",1992,8.2\\n119,Der Untergang,\"Oliver Hirschbiegel (dir.), Bruno Ganz, Alexandra Maria Lara\",2004,8.2\\n120,The Treasure of the Sierra Madre,\"John Huston (dir.), Humphrey Bogart, Walter Huston\",1948,8.2\\n121,Die Hard,\"John McTiernan (dir.), Bruce Willis, Alan Rickman\",1988,8.2\\n122,Heat,\"Michael Mann (dir.), Al Pacino, Robert De Niro\",1995,8.2\\n123,Ikiru,\"Akira Kurosawa (dir.), Takashi Shimura, Nobuo Kaneko\",1952,8.2\\n124,Raging Bull,\"Martin Scorsese (dir.), Robert De Niro, Cathy Moriarty\",1980,8.2\\n125,Incendies,\"Denis Villeneuve (dir.), Lubna Azabal, MÌ©lissa DÌ©sormeaux-Poulin\",2010,8.2\\n126,The Great Escape,\"John Sturges (dir.), Steve McQueen, James Garner\",1963,8.2\\n127,Babam ve Oglum,\"Ìàagan Irmak (dir.), Ìàetin Tekindor, Fikret Kuskan\",2005,8.2\\n128,Bacheha-Ye aseman,\"Majid Majidi (dir.), Mohammad Amir Naji, Amir Farrokh Hashemian\",1997,8.2\\n129,Pan\\'s Labyrinth,\"Guillermo del Toro (dir.), Ivana Baquero, Ariadna Gil\",2006,8.2\\n130,The Third Man,\"Carol Reed (dir.), Orson Welles, Joseph Cotten\",1949,8.2\\n131,Chinatown,\"Roman Polanski (dir.), Jack Nicholson, Faye Dunaway\",1974,8.2\\n132,Tonari no Totoro,\"Hayao Miyazaki (dir.), Hitoshi Takagi, Noriko Hidaka\",1988,8.2\\n133,Ran,\"Akira Kurosawa (dir.), Tatsuya Nakadai, Akira Terao\",1985,8.2\\n134,Hauru no ugoku shiro,\"Hayao Miyazaki (dir.), Chieko BaishÌ«, Takuya Kimura\",2004,8.2\\n135,Judgment at Nuremberg,\"Stanley Kramer (dir.), Spencer Tracy, Burt Lancaster\",1961,8.2\\n136,El secreto de sus ojos,\"Juan JosÌ© Campanella (dir.), Ricardo DarÌ_n, Soledad Villamil\",2009,8.2\\n137,The Gold Rush,\"Charles Chaplin (dir.), Charles Chaplin, Mack Swain\",1925,8.2\\n138,The Bridge on the River Kwai,\"David Lean (dir.), William Holden, Alec Guinness\",1957,8.2\\n139,\"Three Billboards Outside Ebbing, Missouri\",\"Martin McDonagh (dir.), Frances McDormand, Woody Harrelson\",2017,8.2\\n140,A Beautiful Mind,\"Ron Howard (dir.), Russell Crowe, Ed Harris\",2001,8.2\\n141,On the Waterfront,\"Elia Kazan (dir.), Marlon Brando, Karl Malden\",1954,8.2\\n142,\"Lock, Stock and Two Smoking Barrels\",\"Guy Ritchie (dir.), Jason Flemyng, Dexter Fletcher\",1998,8.2\\n143,Casino,\"Martin Scorsese (dir.), Robert De Niro, Sharon Stone\",1995,8.2\\n144,Det sjunde inseglet,\"Ingmar Bergman (dir.), Max von Sydow, Gunnar BjÌ¦rnstrand\",1957,8.2\\n145,Inside Out,\"Pete Docter (dir.), Amy Poehler, Bill Hader\",2015,8.2\\n146,Room,\"Lenny Abrahamson (dir.), Brie Larson, Jacob Tremblay\",2015,8.1\\n147,The Elephant Man,\"David Lynch (dir.), Anthony Hopkins, John Hurt\",1980,8.1\\n148,Mr. Smith Goes to Washington,\"Frank Capra (dir.), James Stewart, Jean Arthur\",1939,8.1\\n149,The Wolf of Wall Street,\"Martin Scorsese (dir.), Leonardo DiCaprio, Jonah Hill\",2013,8.1\\n150,V for Vendetta,\"James McTeigue (dir.), Hugo Weaving, Natalie Portman\",2005,8.1\\n151,Warrior,\"Gavin O\\'Connor (dir.), Tom Hardy, Nick Nolte\",2011,8.1\\n152,Blade Runner,\"Ridley Scott (dir.), Harrison Ford, Rutger Hauer\",1982,8.1\\n153,The General,\"Clyde Bruckman (dir.), Buster Keaton, Marion Mack\",1926,8.1\\n154,SmultronstÌ_llet,\"Ingmar Bergman (dir.), Victor SjÌ¦strÌ¦m, Bibi Andersson\",1957,8.1\\n155,Dial M for Murder,\"Alfred Hitchcock (dir.), Ray Milland, Grace Kelly\",1954,8.1\\n156,Trainspotting,\"Danny Boyle (dir.), Ewan McGregor, Ewen Bremner\",1996,8.1\\n157,No Country for Old Men,\"Ethan Coen (dir.), Tommy Lee Jones, Javier Bardem\",2007,8.1\\n158,There Will Be Blood,\"Paul Thomas Anderson (dir.), Daniel Day-Lewis, Paul Dano\",2007,8.1\\n159,The Sixth Sense,\"M. Night Shyamalan (dir.), Bruce Willis, Haley Joel Osment\",1999,8.1\\n160,Gone with the Wind,\"Victor Fleming (dir.), Clark Gable, Vivien Leigh\",1939,8.1\\n161,The Thing,\"John Carpenter (dir.), Kurt Russell, Wilford Brimley\",1982,8.1\\n162,Fargo,\"Joel Coen (dir.), William H. Macy, Frances McDormand\",1996,8.1\\n163,Gran Torino,\"Clint Eastwood (dir.), Clint Eastwood, Bee Vang\",2008,8.1\\n164,The Deer Hunter,\"Michael Cimino (dir.), Robert De Niro, Christopher Walken\",1978,8.1\\n165,Finding Nemo,\"Andrew Stanton (dir.), Albert Brooks, Ellen DeGeneres\",2003,8.1\\n166,Idi i smotri,\"Elem Klimov (dir.), Aleksey Kravchenko, Olga Mironova\",1985,8.1\\n167,Sherlock Jr.,\"Buster Keaton (dir.), Buster Keaton, Kathryn McGuire\",1924,8.1\\n168,The Big Lebowski,\"Joel Coen (dir.), Jeff Bridges, John Goodman\",1998,8.1\\n169,A Star Is Born,\"Bradley Cooper (dir.), Lady Gaga, Bradley Cooper\",2018,8.1\\n170,Kill Bill: Vol. 1,\"Quentin Tarantino (dir.), Uma Thurman, David Carradine\",2003,8.1\\n171,Shutter Island,\"Martin Scorsese (dir.), Leonardo DiCaprio, Emily Mortimer\",2010,8.1\\n172,Cool Hand Luke,\"Stuart Rosenberg (dir.), Paul Newman, George Kennedy\",1967,8.1\\n173,Rebecca,\"Alfred Hitchcock (dir.), Laurence Olivier, Joan Fontaine\",1940,8.1\\n174,TÌ«kyÌ« monogatari,\"YasujirÌ« Ozu (dir.), ChishÌÈ RyÌÈ, Chieko Higashiyama\",1953,8.1\\n175,Hacksaw Ridge,\"Mel Gibson (dir.), Andrew Garfield, Sam Worthington\",2016,8.1\\n176,Mary and Max,\"Adam Elliot (dir.), Toni Collette, Philip Seymour Hoffman\",2009,8.1\\n177,Sunrise: A Song of Two Humans,\"F.W. Murnau (dir.), George O\\'Brien, Janet Gaynor\",1927,8.1\\n178,How to Train Your Dragon,\"Dean DeBlois (dir.), Jay Baruchel, Gerard Butler\",2010,8.1\\n179,Gone Girl,\"David Fincher (dir.), Ben Affleck, Rosamund Pike\",2014,8.1\\n180,Relatos salvajes,\"DamiÌÁn Szifron (dir.), DarÌ_o Grandinetti, MarÌ_a Marull\",2014,8.1\\n181,Jurassic Park,\"Steven Spielberg (dir.), Sam Neill, Laura Dern\",1993,8.1\\n182,Into the Wild,\"Sean Penn (dir.), Emile Hirsch, Vince Vaughn\",2007,8.1\\n183,Life of Brian,\"Terry Jones (dir.), Graham Chapman, John Cleese\",1979,8.1\\n184,Eskiya,\"Yavuz Turgul (dir.), Sener Sen, Ugur YÌ_cel\",1996,8.1\\n185,It Happened One Night,\"Frank Capra (dir.), Clark Gable, Claudette Colbert\",1934,8.1\\n186,In the Name of the Father,\"Jim Sheridan (dir.), Daniel Day-Lewis, Pete Postlethwaite\",1993,8.1\\n187,Platoon,\"Oliver Stone (dir.), Charlie Sheen, Tom Berenger\",1986,8.1\\n188,The Grand Budapest Hotel,\"Wes Anderson (dir.), Ralph Fiennes, F. Murray Abraham\",2014,8.1\\n189,Stand by Me,\"Rob Reiner (dir.), Wil Wheaton, River Phoenix\",1986,8.1\\n190,Network,\"Sidney Lumet (dir.), Faye Dunaway, William Holden\",1976,8.1\\n191,The Truman Show,\"Peter Weir (dir.), Jim Carrey, Ed Harris\",1998,8.1\\n192,Stalker,\"Andrei Tarkovsky (dir.), Alisa Freyndlikh, Aleksandr Kaydanovskiy\",1979,8.1\\n193,Hotel Rwanda,\"Terry George (dir.), Don Cheadle, Sophie Okonedo\",2004,8.1\\n194,Ben-Hur,\"William Wyler (dir.), Charlton Heston, Jack Hawkins\",1959,8.1\\n195,Persona,\"Ingmar Bergman (dir.), Bibi Andersson, Liv Ullmann\",1966,8.1\\n196,Salinui chueok,\"Joon-ho Bong (dir.), Kang-ho Song, Sang-kyung Kim\",2003,8.1\\n197,Andrei Rublev,\"Andrei Tarkovsky (dir.), Anatoliy Solonitsyn, Ivan Lapikov\",1966,8.1\\n198,12 Years a Slave,\"Steve McQueen (dir.), Chiwetel Ejiofor, Michael Kenneth Williams\",2013,8.1\\n199,Le salaire de la peur,\"Henri-Georges Clouzot (dir.), Yves Montand, Charles Vanel\",1953,8.1\\n200,Million Dollar Baby,\"Clint Eastwood (dir.), Hilary Swank, Clint Eastwood\",2004,8.1\\n201,Rang De Basanti,\"Rakeysh Omprakash Mehra (dir.), Aamir Khan, Soha Ali Khan\",2006,8.1\\n202,La passion de Jeanne d\\'Arc,\"Carl Theodor Dreyer (dir.), Maria Falconetti, Eugene Silvain\",1928,8.1\\n203,Rush,\"Ron Howard (dir.), Daniel BrÌ_hl, Chris Hemsworth\",2013,8.1\\n204,Mad Max: Fury Road,\"George Miller (dir.), Tom Hardy, Charlize Theron\",2015,8.1\\n205,Before Sunrise,\"Richard Linklater (dir.), Ethan Hawke, Julie Delpy\",1995,8.1\\n206,Les quatre cents coups,\"FranÌ¤ois Truffaut (dir.), Jean-Pierre LÌ©aud, Albert RÌ©my\",1959,8.1\\n207,Spotlight,\"Tom McCarthy (dir.), Mark Ruffalo, Michael Keaton\",2015,8.1\\n208,Logan,\"James Mangold (dir.), Hugh Jackman, Patrick Stewart\",2017,8.1\\n209,Hachi: A Dog\\'s Tale,\"Lasse HallstrÌ¦m (dir.), Richard Gere, Joan Allen\",2009,8.1\\n210,Amores perros,\"Alejandro G. IÌ±ÌÁrritu (dir.), Emilio EchevarrÌ_a, Gael GarcÌ_a Bernal\",2000,8.1\\n211,Prisoners,\"Denis Villeneuve (dir.), Hugh Jackman, Jake Gyllenhaal\",2013,8.1\\n212,The Princess Bride,\"Rob Reiner (dir.), Cary Elwes, Mandy Patinkin\",1987,8.1\\n213,Kaze no tani no Naushika,\"Hayao Miyazaki (dir.), Sumi Shimamoto, Mahito Tsujimura\",1984,8\\n214,Catch Me If You Can,\"Steven Spielberg (dir.), Leonardo DiCaprio, Tom Hanks\",2002,8\\n215,Butch Cassidy and the Sundance Kid,\"George Roy Hill (dir.), Paul Newman, Robert Redford\",1969,8\\n216,Harry Potter and the Deathly Hallows: Part 2,\"David Yates (dir.), Daniel Radcliffe, Emma Watson\",2011,8\\n217,Rocky,\"John G. Avildsen (dir.), Sylvester Stallone, Talia Shire\",1976,8\\n218,Barry Lyndon,\"Stanley Kubrick (dir.), Ryan O\\'Neal, Marisa Berenson\",1975,8\\n219,\"Monsters, Inc.\",\"Pete Docter (dir.), Billy Crystal, John Goodman\",2001,8\\n220,The Grapes of Wrath,\"John Ford (dir.), Henry Fonda, Jane Darwell\",1940,8\\n221,The Maltese Falcon,\"John Huston (dir.), Humphrey Bogart, Mary Astor\",1941,8\\n222,Sanjuro,\"Akira Kurosawa (dir.), ToshirÌ« Mifune, Tatsuya Nakadai\",1962,8\\n223,Les diaboliques,\"Henri-Georges Clouzot (dir.), Simone Signoret, VÌ©ra Clouzot\",1955,8\\n224,Donnie Darko,\"Richard Kelly (dir.), Jake Gyllenhaal, Jena Malone\",2001,8\\n225,The Terminator,\"James Cameron (dir.), Arnold Schwarzenegger, Linda Hamilton\",1984,8\\n226,Gandhi,\"Richard Attenborough (dir.), Ben Kingsley, John Gielgud\",1982,8\\n227,Dead Poets Society,\"Peter Weir (dir.), Robin Williams, Robert Sean Leonard\",1989,8\\n228,Blade Runner 2049,\"Denis Villeneuve (dir.), Harrison Ford, Ryan Gosling\",2017,8\\n229,La haine,\"Mathieu Kassovitz (dir.), Vincent Cassel, Hubert KoundÌ©\",1995,8\\n230,Le notti di Cabiria,\"Federico Fellini (dir.), Giulietta Masina, FranÌ¤ois PÌ©rier\",1957,8\\n231,Groundhog Day,\"Harold Ramis (dir.), Bill Murray, Andie MacDowell\",1993,8\\n232,La La Land,\"Damien Chazelle (dir.), Ryan Gosling, Emma Stone\",2016,8\\n233,The Wizard of Oz,\"Victor Fleming (dir.), Judy Garland, Frank Morgan\",1939,8\\n234,Jaws,\"Steven Spielberg (dir.), Roy Scheider, Robert Shaw\",1975,8\\n235,The Help,\"Tate Taylor (dir.), Emma Stone, Viola Davis\",2011,8\\n236,Faa yeung nin wa,\"Kar-Wai Wong (dir.), Tony Chiu-Wai Leung, Maggie Cheung\",2000,8\\n237,Paper Moon,\"Peter Bogdanovich (dir.), Ryan O\\'Neal, Tatum O\\'Neal\",1973,8\\n238,Gangs of Wasseypur,\"Anurag Kashyap (dir.), Manoj Bajpayee, Richa Chadha\",2012,8\\n239,Before Sunset,\"Richard Linklater (dir.), Ethan Hawke, Julie Delpy\",2004,8\\n240,A Wednesday,\"Neeraj Pandey (dir.), Anupam Kher, Naseeruddin Shah\",2008,8\\n241,Mandariinid,\"Zaza Urushadze (dir.), Lembit Ulfsak, Elmo NÌ_ganen\",2013,8\\n242,\"Paris, Texas\",\"Wim Wenders (dir.), Harry Dean Stanton, Nastassja Kinski\",1984,8\\n243,The Bourne Ultimatum,\"Paul Greengrass (dir.), Matt Damon, Edgar RamÌ_rez\",2007,8\\n244,Guardians of the Galaxy,\"James Gunn (dir.), Chris Pratt, Vin Diesel\",2014,8\\n245,Ah-ga-ssi,\"Chan-wook Park (dir.), Min-hee Kim, Jung-woo Ha\",2016,8\\n246,The Best Years of Our Lives,\"William Wyler (dir.), Myrna Loy, Dana Andrews\",1946,8\\n247,PK,\"Rajkumar Hirani (dir.), Aamir Khan, Anushka Sharma\",2014,8\\n248,TenkÌÈ no shiro Rapyuta,\"Hayao Miyazaki (dir.), Anna Paquin, James Van Der Beek\",1986,8\\n249,Pirates of the Caribbean: The Curse of the Black Pearl,\"Gore Verbinski (dir.), Johnny Depp, Geoffrey Rush\",2003,8\\n250,Akira,\"Katsuhiro ÌÓtomo (dir.), Mitsuo Iwata, Nozomu Sasaki\",1988,8'"
      ]
     },
     "execution_count": 11,
     "metadata": {},
     "output_type": "execute_result"
    }
   ],
   "source": [
    "imdb.read()"
   ]
  }
 ],
 "metadata": {
  "kernelspec": {
   "display_name": "Python 3",
   "language": "python",
   "name": "python3"
  },
  "language_info": {
   "codemirror_mode": {
    "name": "ipython",
    "version": 3
   },
   "file_extension": ".py",
   "mimetype": "text/x-python",
   "name": "python",
   "nbconvert_exporter": "python",
   "pygments_lexer": "ipython3",
   "version": "3.7.0"
  }
 },
 "nbformat": 4,
 "nbformat_minor": 2
}
