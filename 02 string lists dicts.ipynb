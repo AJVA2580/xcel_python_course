{
 "cells": [
  {
   "cell_type": "code",
   "execution_count": 1,
   "metadata": {},
   "outputs": [
    {
     "ename": "SyntaxError",
     "evalue": "invalid syntax (<ipython-input-1-ceb4bef81f3b>, line 1)",
     "output_type": "error",
     "traceback": [
      "\u001b[0;36m  File \u001b[0;32m\"<ipython-input-1-ceb4bef81f3b>\"\u001b[0;36m, line \u001b[0;32m1\u001b[0m\n\u001b[0;31m    str = \"\"You wouldn't be disappointed with the course\", said Noman\"\u001b[0m\n\u001b[0m              ^\u001b[0m\n\u001b[0;31mSyntaxError\u001b[0m\u001b[0;31m:\u001b[0m invalid syntax\n"
     ]
    }
   ],
   "source": [
    "str = \"\"You wouldn't be disappointed with the course\", said Noman\""
   ]
  },
  {
   "cell_type": "code",
   "execution_count": 5,
   "metadata": {
    "scrolled": true
   },
   "outputs": [
    {
     "name": "stdout",
     "output_type": "stream",
     "text": [
      "\"You wouldn't be disappointed with the course\", said Noman\n"
     ]
    }
   ],
   "source": [
    "str = \"\\\"You wouldn\\'t be disappointed with the course\\\", said Noman\"\n",
    "print(str)"
   ]
  },
  {
   "cell_type": "code",
   "execution_count": 7,
   "metadata": {
    "scrolled": true
   },
   "outputs": [
    {
     "name": "stdout",
     "output_type": "stream",
     "text": [
      "\"You wouldn't be disappointed with the course\", said \n",
      "Noman\n"
     ]
    }
   ],
   "source": [
    "str = \"\\\"You wouldn\\'t be disappointed with the course\\\", said \\nNoman\"\n",
    "print(str)"
   ]
  },
  {
   "cell_type": "code",
   "execution_count": 10,
   "metadata": {
    "scrolled": true
   },
   "outputs": [
    {
     "name": "stdout",
     "output_type": "stream",
     "text": [
      "C:\\someDir\n",
      "omanFolder\n"
     ]
    }
   ],
   "source": [
    "str = 'C:\\someDir\\nomanFolder'\n",
    "print(str)"
   ]
  },
  {
   "cell_type": "code",
   "execution_count": 11,
   "metadata": {
    "scrolled": true
   },
   "outputs": [
    {
     "name": "stdout",
     "output_type": "stream",
     "text": [
      "C:\\someDir\\nomanFolder\n"
     ]
    }
   ],
   "source": [
    "str = r'C:\\someDir\\nomanFolder' ##use raw strings by adding an r before the first quote\n",
    "print(str)"
   ]
  },
  {
   "cell_type": "code",
   "execution_count": 14,
   "metadata": {},
   "outputs": [
    {
     "name": "stdout",
     "output_type": "stream",
     "text": [
      "NoNoNoNoNoman\n"
     ]
    }
   ],
   "source": [
    "str = 5*\"No\"+\"man\"\n",
    "print(str)"
   ]
  },
  {
   "cell_type": "code",
   "execution_count": 25,
   "metadata": {},
   "outputs": [
    {
     "name": "stdout",
     "output_type": "stream",
     "text": [
      "Hello Xcel Alliance Python Course participants\n",
      "H\n",
      "Xcel Alli\n",
      "Xcel Alliance Python Course participants\n",
      "Hello Xcel Alliance Python Course participantsHello Xcel Alliance Python Course participants\n",
      "Hello Xcel Alliance Python Course participants TESTING\n",
      "s\n",
      "rtici\n",
      "46\n"
     ]
    }
   ],
   "source": [
    "str = \"Hello Xcel Alliance Python Course participants\"\n",
    "print(str)          # Prints complete string\n",
    "print(str[0])       # Prints first character of the string\n",
    "print(str[6:15])     # Prints characters starting from 3rd to 5th\n",
    "print(str[6:])      # Prints string starting from 3rd character\n",
    "print(str * 2)      # Prints string two times\n",
    "print(str + \" TESTING\") # Prints concatenated string\n",
    "print(str[-1])      #last character\n",
    "print(str[-10:-5])   #characters from 10th-last to 5th-last\n",
    "print(len(str))     #len() is used to calculate the number of characters"
   ]
  },
  {
   "cell_type": "code",
   "execution_count": 27,
   "metadata": {},
   "outputs": [
    {
     "name": "stdout",
     "output_type": "stream",
     "text": [
      "['abcd', 786, 2.23, 'john', 70.2]\n",
      "abcd\n",
      "[786, 2.23]\n",
      "[2.23, 'john', 70.2]\n",
      "[123, 'john', 123, 'john']\n",
      "['abcd', 786, 2.23, 'john', 70.2, 123, 'john']\n",
      "b\n"
     ]
    }
   ],
   "source": [
    "list = [ 'abcd', 786 , 2.23, 'john', 70.2 ]\n",
    "tinylist = [123, 'john']\n",
    "\n",
    "print(list)          # Prints complete list\n",
    "print(list[0])       # Prints first element of the list\n",
    "print(list[1:3])     # Prints elements starting from 2nd till 3rd \n",
    "print(list[2:])      # Prints elements starting from 3rd element\n",
    "print(tinylist * 2)  # Prints list two times\n",
    "print(list + tinylist) # Prints concatenated lists\n",
    "print(list[0][1])      #second element from first list"
   ]
  },
  {
   "cell_type": "code",
   "execution_count": 28,
   "metadata": {},
   "outputs": [
    {
     "name": "stdout",
     "output_type": "stream",
     "text": [
      "('abcd', 786, 2.23, 'john', 70.2)\n",
      "abcd\n",
      "(786, 2.23)\n",
      "(2.23, 'john', 70.2)\n",
      "(123, 'john', 123, 'john')\n",
      "('abcd', 786, 2.23, 'john', 70.2, 123, 'john')\n",
      "b\n"
     ]
    }
   ],
   "source": [
    "tuple = ( 'abcd', 786 , 2.23, 'john', 70.2 )\n",
    "tinytuple = (123, 'john')\n",
    "\n",
    "print(tuple)          # Prints complete list\n",
    "print(tuple[0])       # Prints first element of the list\n",
    "print(tuple[1:3])     # Prints elements starting from 2nd till 3rd \n",
    "print(tuple[2:])      # Prints elements starting from 3rd element\n",
    "print(tinytuple * 2)  # Prints list two times\n",
    "print(tuple + tinytuple) # Prints concatenated lists\n",
    "print(tuple[0][1])      #second element from first list"
   ]
  },
  {
   "cell_type": "code",
   "execution_count": 29,
   "metadata": {},
   "outputs": [
    {
     "name": "stdout",
     "output_type": "stream",
     "text": [
      "('abcd', 786, 2.23, 'john', 70.2)\n",
      "b\n"
     ]
    }
   ],
   "source": [
    "tuple = ( 'abcd', 786 , 2.23, 'john', 70.2 )\n",
    "print(tuple)          # Prints complete list\n",
    "print(tuple[0][1])      #second element from first list"
   ]
  },
  {
   "cell_type": "code",
   "execution_count": 30,
   "metadata": {},
   "outputs": [
    {
     "name": "stdout",
     "output_type": "stream",
     "text": [
      "This is one\n",
      "This is two\n",
      "{'name': 'Noman', 'code': 6734, 'dept': 'xcel'}\n",
      "dict_keys(['name', 'code', 'dept'])\n",
      "dict_values(['Noman', 6734, 'xcel'])\n"
     ]
    }
   ],
   "source": [
    "dict = {}\n",
    "dict['one'] = \"This is one\"\n",
    "dict[2]     = \"This is two\"\n",
    "\n",
    "tinydict = {'name': 'Noman','code':6734, 'dept': 'xcel'}\n",
    "\n",
    "\n",
    "print(dict['one'])       # Prints value for 'one' key\n",
    "print(dict[2])           # Prints value for 2 key\n",
    "print(tinydict)          # Prints complete dictionary\n",
    "print(tinydict.keys())   # Prints all the keys\n",
    "print(tinydict.values()) # Prints all the values"
   ]
  }
 ],
 "metadata": {
  "kernelspec": {
   "display_name": "Python 3",
   "language": "python",
   "name": "python3"
  },
  "language_info": {
   "codemirror_mode": {
    "name": "ipython",
    "version": 3
   },
   "file_extension": ".py",
   "mimetype": "text/x-python",
   "name": "python",
   "nbconvert_exporter": "python",
   "pygments_lexer": "ipython3",
   "version": "3.7.0"
  }
 },
 "nbformat": 4,
 "nbformat_minor": 2
}
