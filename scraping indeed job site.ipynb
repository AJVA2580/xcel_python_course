{
 "cells": [
  {
   "cell_type": "code",
   "execution_count": 1,
   "metadata": {},
   "outputs": [],
   "source": [
    "#########################################################\n",
    "## This code is written by Noman Hai (dated Nov 8, 2018)\n",
    "##Please feel free to contact me at nomanhai@gmail.com\n",
    "##This code will scrape the indeed job posting website for python developers in Mississauga area\n",
    "##########################################################\n",
    "\n",
    "import requests \n",
    "from bs4 import BeautifulSoup  \n",
    "import pandas as pd  \n",
    "\n",
    "url = 'https://www.indeed.ca/m/jobs?q=python&l=Mississauga%2C+ON&start='\n",
    "records = []\n",
    "\n",
    "for i in range(0,100,10):\n",
    "    r = requests.get(url+str(i))\n",
    "    soup = BeautifulSoup(r.text, 'html.parser')  \n",
    "    results = soup.find_all('h2', attrs={'class':'jobTitle'})\n",
    "\n",
    "    paragraphs = soup.find_all('p')\n",
    "    del paragraphs[0]\n",
    "    del paragraphs[10:len(paragraphs)]\n",
    "\n",
    "\n",
    "    for para in paragraphs:\n",
    "        job = para.text.split('\\n')[0]\n",
    "        company = para.text.split('\\n')[1].split('-')[0]\n",
    "        location = para.text.split('\\n')[1].split('-')[1]\n",
    "        posted = para.text.split('\\n')[2]\n",
    "        records.append((job,company,location,posted))\n",
    "\n",
    "\n",
    "df = pd.DataFrame(records, columns=['job', 'company', 'location', 'salary and posted date'])  \n",
    "df.to_csv('indeed_python_jobs.csv', index=False, encoding='utf-8')  "
   ]
  },
  {
   "cell_type": "code",
   "execution_count": null,
   "metadata": {},
   "outputs": [],
   "source": []
  }
 ],
 "metadata": {
  "kernelspec": {
   "display_name": "Python 3",
   "language": "python",
   "name": "python3"
  },
  "language_info": {
   "codemirror_mode": {
    "name": "ipython",
    "version": 3
   },
   "file_extension": ".py",
   "mimetype": "text/x-python",
   "name": "python",
   "nbconvert_exporter": "python",
   "pygments_lexer": "ipython3",
   "version": "3.7.0"
  }
 },
 "nbformat": 4,
 "nbformat_minor": 2
}
