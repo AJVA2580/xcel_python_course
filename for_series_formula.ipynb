{
 "cells": [
  {
   "cell_type": "code",
   "execution_count": 67,
   "metadata": {},
   "outputs": [
    {
     "name": "stdout",
     "output_type": "stream",
     "text": [
      "please enter a number:2\n",
      "3\n",
      "CPU times: user 3.13 ms, sys: 3.29 ms, total: 6.42 ms\n",
      "Wall time: 1.74 s\n"
     ]
    }
   ],
   "source": [
    "%%time\n",
    "num = int(input(\"please enter a number:\"))\n",
    "sum = 0\n",
    "for i in range(num+1):\n",
    "    sum += i\n",
    "print(sum)\n",
    "    "
   ]
  },
  {
   "cell_type": "code",
   "execution_count": null,
   "metadata": {},
   "outputs": [],
   "source": []
  },
  {
   "cell_type": "code",
   "execution_count": 17,
   "metadata": {},
   "outputs": [
    {
     "name": "stdout",
     "output_type": "stream",
     "text": [
      "please enter a number:1000\n",
      "500500.0\n",
      "CPU times: user 4.25 ms, sys: 2.49 ms, total: 6.74 ms\n",
      "Wall time: 2.44 s\n"
     ]
    }
   ],
   "source": [
    "%%time\n",
    "num = int(input(\"please enter a number:\"))\n",
    "sum = num/2*(num+1)\n",
    "print (sum)"
   ]
  },
  {
   "cell_type": "markdown",
   "metadata": {},
   "source": [
    "### Write a function to check whether the number is prime or not?"
   ]
  },
  {
   "cell_type": "code",
   "execution_count": 77,
   "metadata": {},
   "outputs": [
    {
     "name": "stdout",
     "output_type": "stream",
     "text": [
      "please enter a number:11\n",
      "11\n",
      "The number is A prime number\n"
     ]
    }
   ],
   "source": [
    "num = int(input(\"please enter a number:\"))\n",
    "for i in range(2,num+1):\n",
    "    if (i!= num) and (num%i == 0):\n",
    "        print(\"The number is NOT prime\")\n",
    "        break\n",
    "print(i)\n",
    "if i == num:\n",
    "    print(\"The number is A prime number\")"
   ]
  },
  {
   "cell_type": "code",
   "execution_count": null,
   "metadata": {},
   "outputs": [],
   "source": []
  },
  {
   "cell_type": "markdown",
   "metadata": {},
   "source": [
    "#### Ask the user for a string and print out whether this string is a palindrome or not. (A palindrome is a string that reads the same forwards and backwards."
   ]
  },
  {
   "cell_type": "code",
   "execution_count": 28,
   "metadata": {},
   "outputs": [
    {
     "name": "stdout",
     "output_type": "stream",
     "text": [
      "give me a word:\n",
      "b\n",
      "nomon\n",
      "This is NOT a Palindrome\n"
     ]
    }
   ],
   "source": [
    "def reverse(word):\n",
    "    x = ''\n",
    "    for i in range(len(word)):\n",
    "        x += word[len(word)-1-i]\n",
    "    return x\n",
    "\n",
    "word = input('give me a word:\\n')\n",
    "print(x)\n",
    "if x == word:\n",
    "    print('This is a Palindrome')\n",
    "else:\n",
    "    print('This is NOT a Palindrome')"
   ]
  },
  {
   "cell_type": "markdown",
   "metadata": {},
   "source": [
    "Take two lists, say for example these two:\n",
    "\n",
    "\ta = [1, 1, 2, 3, 5, 8, 13, 21, 34, 55, 89]\n",
    "\tb = [1, 2, 3, 4, 5, 6, 7, 8, 9, 10, 11, 12, 13]\n",
    "and write a program that returns a list that contains only the elements that are common between the lists (without duplicates). Make sure your program works on two lists of different sizes. Write this using at least one list comprehension."
   ]
  },
  {
   "cell_type": "code",
   "execution_count": 55,
   "metadata": {},
   "outputs": [
    {
     "name": "stdout",
     "output_type": "stream",
     "text": [
      "[77] [21, 57, 40, 28, 6, 76, 16, 28, 79, 65]\n",
      "[]\n"
     ]
    }
   ],
   "source": [
    "import random\n",
    "a = []\n",
    "b = []\n",
    "len_a = random.randint(1,20)\n",
    "len_b = random.randint(1,20)\n",
    "for i in range(len_a):\n",
    "    a.append(random.randint(0,100))\n",
    "for i in range(len_b):\n",
    "    b.append(random.randint(0,100))\n",
    "print(a, b)\n",
    "#a = [1,2,3]\n",
    "#b = [3,4,5]\n",
    "finallist = [x for x in a if x in b]\n",
    "print(finallist)"
   ]
  },
  {
   "cell_type": "markdown",
   "metadata": {},
   "source": [
    "### Implement a function that takes as input three variables, and returns the largest of the three. Do this without using the Python max() function!\n",
    "\n",
    "The goal of this exercise is to think about some internals that Python normally takes care of for us. All you need is some variables and if statements!"
   ]
  },
  {
   "cell_type": "code",
   "execution_count": 60,
   "metadata": {},
   "outputs": [
    {
     "name": "stdout",
     "output_type": "stream",
     "text": [
      "Enter number:100\n",
      "Enter number:99\n",
      "Enter number:98\n",
      "100\n"
     ]
    }
   ],
   "source": [
    "num = []\n",
    "for i in range(3):\n",
    "    num.append(int(input(\"Enter number:\")))\n",
    "\n",
    "max = 0\n",
    "for i in range(3):\n",
    "    if num[i]>max:\n",
    "        max = num[i]\n",
    "print(max)"
   ]
  },
  {
   "cell_type": "markdown",
   "metadata": {},
   "source": [
    "Write a Python program to check if a given positive integer is a power of two"
   ]
  },
  {
   "cell_type": "code",
   "execution_count": 83,
   "metadata": {},
   "outputs": [
    {
     "name": "stdout",
     "output_type": "stream",
     "text": [
      "Enter number:16\n",
      "The number is of power of 2\n"
     ]
    }
   ],
   "source": [
    "import math\n",
    "num = int(input(\"Enter number:\"))\n",
    "\n",
    "for i in range(num):\n",
    "    if int(math.pow(2,i)) == num:\n",
    "        print(\"The number is of power of 2\")\n",
    "        break\n",
    "    elif int(math.pow(2,i)) > num:\n",
    "        print(\"The number is NOT power of 2\")\n",
    "        break\n"
   ]
  }
 ],
 "metadata": {
  "kernelspec": {
   "display_name": "Python 3",
   "language": "python",
   "name": "python3"
  },
  "language_info": {
   "codemirror_mode": {
    "name": "ipython",
    "version": 3
   },
   "file_extension": ".py",
   "mimetype": "text/x-python",
   "name": "python",
   "nbconvert_exporter": "python",
   "pygments_lexer": "ipython3",
   "version": "3.7.0"
  }
 },
 "nbformat": 4,
 "nbformat_minor": 2
}
