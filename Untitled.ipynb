{
 "cells": [
  {
   "cell_type": "code",
   "execution_count": 106,
   "metadata": {},
   "outputs": [],
   "source": [
    "import requests  \n",
    "r = requests.get('https://www.indeed.ca/m/jobs?q=python&l=Mississauga%2C+ON&start=0')\n",
    "\n",
    "from bs4 import BeautifulSoup  \n",
    "soup = BeautifulSoup(r.text, 'html.parser')  \n",
    "results = soup.find_all('h2', attrs={'class':'jobTitle'})"
   ]
  },
  {
   "cell_type": "code",
   "execution_count": 20,
   "metadata": {},
   "outputs": [],
   "source": [
    "job = results[0].text"
   ]
  },
  {
   "cell_type": "code",
   "execution_count": 21,
   "metadata": {},
   "outputs": [
    {
     "data": {
      "text/plain": [
       "<h2 class=\"jobTitle\"><a href=\"viewjob?jk=c8825ac0caec497d\" rel=\"nofollow\">Consultant</a></h2>"
      ]
     },
     "execution_count": 21,
     "metadata": {},
     "output_type": "execute_result"
    }
   ],
   "source": [
    "results[0]"
   ]
  },
  {
   "cell_type": "code",
   "execution_count": 22,
   "metadata": {},
   "outputs": [],
   "source": [
    "company = soup.find_all('br')"
   ]
  },
  {
   "cell_type": "code",
   "execution_count": 28,
   "metadata": {},
   "outputs": [],
   "source": [
    "p = soup.find_all('p')"
   ]
  },
  {
   "cell_type": "code",
   "execution_count": 40,
   "metadata": {},
   "outputs": [
    {
     "data": {
      "text/plain": [
       "['Phillips Lab at the University of Toronto ', ' Mississauga, ON']"
      ]
     },
     "execution_count": 40,
     "metadata": {},
     "output_type": "execute_result"
    }
   ],
   "source": [
    "p[2].text.split('\\n')[1].split('-')"
   ]
  },
  {
   "cell_type": "code",
   "execution_count": 41,
   "metadata": {},
   "outputs": [],
   "source": [
    "job = p[1].text.split('\\n')[0]"
   ]
  },
  {
   "cell_type": "code",
   "execution_count": 43,
   "metadata": {},
   "outputs": [],
   "source": [
    "company = p[2].text.split('\\n')[1].split('-')[0]"
   ]
  },
  {
   "cell_type": "code",
   "execution_count": 44,
   "metadata": {},
   "outputs": [
    {
     "data": {
      "text/plain": [
       "'Phillips Lab at the University of Toronto '"
      ]
     },
     "execution_count": 44,
     "metadata": {},
     "output_type": "execute_result"
    }
   ],
   "source": [
    "company"
   ]
  },
  {
   "cell_type": "code",
   "execution_count": 45,
   "metadata": {},
   "outputs": [],
   "source": [
    "location = p[2].text.split('\\n')[1].split('-')[1]"
   ]
  },
  {
   "cell_type": "code",
   "execution_count": 46,
   "metadata": {},
   "outputs": [
    {
     "data": {
      "text/plain": [
       "' Mississauga, ON'"
      ]
     },
     "execution_count": 46,
     "metadata": {},
     "output_type": "execute_result"
    }
   ],
   "source": [
    "location"
   ]
  },
  {
   "cell_type": "code",
   "execution_count": 48,
   "metadata": {},
   "outputs": [],
   "source": [
    "posted = p[2].text.split('\\n')[2]"
   ]
  },
  {
   "cell_type": "code",
   "execution_count": 49,
   "metadata": {},
   "outputs": [
    {
     "data": {
      "text/plain": [
       "'10 days ago'"
      ]
     },
     "execution_count": 49,
     "metadata": {},
     "output_type": "execute_result"
    }
   ],
   "source": [
    "posted"
   ]
  },
  {
   "cell_type": "code",
   "execution_count": 107,
   "metadata": {},
   "outputs": [],
   "source": [
    "paragraphs = soup.find_all('p')"
   ]
  },
  {
   "cell_type": "code",
   "execution_count": 111,
   "metadata": {},
   "outputs": [],
   "source": [
    "del paragraphs[10:len(paragraphs)]"
   ]
  },
  {
   "cell_type": "code",
   "execution_count": 104,
   "metadata": {},
   "outputs": [
    {
     "name": "stdout",
     "output_type": "stream",
     "text": [
      "10\n"
     ]
    }
   ],
   "source": [
    "for i in range(10,len(paragraphs)):\n",
    "    print(i)\n",
    "    del paragraphs[i]"
   ]
  },
  {
   "cell_type": "code",
   "execution_count": 112,
   "metadata": {},
   "outputs": [
    {
     "data": {
      "text/plain": [
       "10"
      ]
     },
     "execution_count": 112,
     "metadata": {},
     "output_type": "execute_result"
    }
   ],
   "source": [
    "len(paragraphs)"
   ]
  },
  {
   "cell_type": "code",
   "execution_count": 115,
   "metadata": {},
   "outputs": [
    {
     "data": {
      "text/plain": [
       "<p><h2 class=\"jobTitle\"><a href=\"viewjob?jk=49a1fee506bb77ff\" rel=\"nofollow\">Baseball Research Analyst - Toronto Blue Jays</a></h2><br/>\n",
       "Rogers Communications - <span class=\"location\">Toronto, ON</span><br/>\n",
       "<span class=\"date\">17 days ago</span></p>"
      ]
     },
     "execution_count": 115,
     "metadata": {},
     "output_type": "execute_result"
    }
   ],
   "source": [
    "paragraphs[9]"
   ]
  },
  {
   "cell_type": "code",
   "execution_count": 77,
   "metadata": {},
   "outputs": [
    {
     "data": {
      "text/plain": [
       "<p><h2 class=\"jobTitle\"><a href=\"viewjob?jk=c8825ac0caec497d\" rel=\"nofollow\">Consultant</a></h2><br/>\n",
       "Dimension Data - <span class=\"location\">Mississauga, ON</span><br/>\n",
       "<span class=\"date\">1 day ago</span></p>"
      ]
     },
     "execution_count": 77,
     "metadata": {},
     "output_type": "execute_result"
    }
   ],
   "source": [
    "paragraphs[0]"
   ]
  },
  {
   "cell_type": "code",
   "execution_count": 118,
   "metadata": {},
   "outputs": [],
   "source": [
    "records = []\n",
    "for para in paragraphs:\n",
    "    job = para.text.split('\\n')[0]\n",
    "    company = para.text.split('\\n')[1].split('-')[0]\n",
    "    location = para.text.split('\\n')[1].split('-')[1]\n",
    "    posted = para.text.split('\\n')[2]\n",
    "    records.append((job,company,location,posted))"
   ]
  },
  {
   "cell_type": "code",
   "execution_count": 120,
   "metadata": {},
   "outputs": [],
   "source": [
    "import pandas as pd  \n",
    "df = pd.DataFrame(records, columns=['job', 'company', 'location', 'posted'])  \n",
    "df.to_csv('indeed_python_jobs.csv', index=False, encoding='utf-8')  "
   ]
  },
  {
   "cell_type": "code",
   "execution_count": 119,
   "metadata": {},
   "outputs": [
    {
     "data": {
      "text/plain": [
       "[('Consultant', 'Dimension Data ', ' Mississauga, ON', '1 day ago'),\n",
       " ('MSc or PhD graduate positions',\n",
       "  'Phillips Lab at the University of Toronto ',\n",
       "  ' Mississauga, ON',\n",
       "  '10 days ago'),\n",
       " ('Entry-Level Marketing Data Analyst',\n",
       "  'M.W.N. Technologies Inc. ',\n",
       "  ' Mississauga, ON',\n",
       "  '3 days ago'),\n",
       " ('Python / Django Developer',\n",
       "  'SearchVelocity.ca ',\n",
       "  ' Oakville, ON',\n",
       "  '$65 - $85 an hour11 days ago'),\n",
       " ('Desktop Devlopper', 'K. Incorp Canada ', ' Toronto, ON', '1 day ago'),\n",
       " ('Drupal Developer',\n",
       "  'dbrand ',\n",
       "  ' Mississauga, ON',\n",
       "  '$70,000 - $90,000 a year24 days ago'),\n",
       " ('Python Engineer',\n",
       "  'Workbridge Associates ',\n",
       "  ' Toronto, ON',\n",
       "  '$100 - $125 a day3 days ago'),\n",
       " ('Python Data Developer-12 Month Contract',\n",
       "  'The Bagg Group ',\n",
       "  ' Mississauga, ON',\n",
       "  '7 days ago'),\n",
       " ('Baseball Operations Scouting Intern - Toronto Blue Jays',\n",
       "  'Rogers Communications ',\n",
       "  ' Toronto, ON',\n",
       "  '17 days ago'),\n",
       " ('Baseball Research Analyst - Toronto Blue Jays',\n",
       "  'Rogers Communications ',\n",
       "  ' Toronto, ON',\n",
       "  '17 days ago')]"
      ]
     },
     "execution_count": 119,
     "metadata": {},
     "output_type": "execute_result"
    }
   ],
   "source": [
    "records"
   ]
  },
  {
   "cell_type": "code",
   "execution_count": 80,
   "metadata": {},
   "outputs": [
    {
     "data": {
      "text/plain": [
       "11"
      ]
     },
     "execution_count": 80,
     "metadata": {},
     "output_type": "execute_result"
    }
   ],
   "source": [
    "len(paragraphs)"
   ]
  },
  {
   "cell_type": "code",
   "execution_count": 81,
   "metadata": {},
   "outputs": [
    {
     "data": {
      "text/plain": [
       "<p><span class=\"label\"><b>where</b> city or province</span><br/>\n",
       "<input name=\"l\" type=\"text\" value=\"Mississauga, ON\"/></p>"
      ]
     },
     "execution_count": 81,
     "metadata": {},
     "output_type": "execute_result"
    }
   ],
   "source": [
    "paragraphs[10]"
   ]
  }
 ],
 "metadata": {
  "kernelspec": {
   "display_name": "Python 3",
   "language": "python",
   "name": "python3"
  },
  "language_info": {
   "codemirror_mode": {
    "name": "ipython",
    "version": 3
   },
   "file_extension": ".py",
   "mimetype": "text/x-python",
   "name": "python",
   "nbconvert_exporter": "python",
   "pygments_lexer": "ipython3",
   "version": "3.7.0"
  }
 },
 "nbformat": 4,
 "nbformat_minor": 2
}
