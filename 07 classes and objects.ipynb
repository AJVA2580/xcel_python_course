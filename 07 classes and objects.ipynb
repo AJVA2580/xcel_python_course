{
 "cells": [
  {
   "cell_type": "markdown",
   "metadata": {},
   "source": [
    "### Python Classes/Objects\n",
    "Python is an object oriented programming language.\n",
    "\n",
    "Almost everything in Python is an object, with its properties and methods.\n",
    "\n",
    "A Class is like an object constructor, or a \"blueprint\" for creating objects.\n",
    "\n",
    "Objects can also contain methods. Methods in objects are functions that belongs to the object.\n",
    "\n",
    "**The self Parameter**\n",
    "The self parameter is a reference to the class itself, and is used to access variables that belongs to the class.\n",
    "It does not have to be named self , you can call it whatever you like, but it has to be the first parameter of any function in the class:\n",
    "\n"
   ]
  },
  {
   "cell_type": "code",
   "execution_count": 15,
   "metadata": {},
   "outputs": [],
   "source": [
    "class xallInstructor:\n",
    "   'Common base class for all instructor'\n",
    "   empCount = 0\n",
    "\n",
    "   def __init__(self, name, experience):\n",
    "      self.name = name\n",
    "      self.exp = experience\n",
    "      xallInstructor.empCount += 1\n",
    "   \n",
    "   def displayCount(self):\n",
    "     print (\"Total Xcel Instructors %d\" % xallInstructor.empCount)\n",
    "\n",
    "   def displayInstructor(self):\n",
    "      print (\"Name : \", self.name,  \", Experience: \", self.exp, \"years\")"
   ]
  },
  {
   "cell_type": "code",
   "execution_count": 16,
   "metadata": {},
   "outputs": [],
   "source": [
    "inst1 = xallInstructor(\"Noman Hai\", \"15\")\n",
    "inst2 = xallInstructor(\"Suleman Akber\", \"16\")"
   ]
  },
  {
   "cell_type": "code",
   "execution_count": 17,
   "metadata": {},
   "outputs": [
    {
     "name": "stdout",
     "output_type": "stream",
     "text": [
      "Name :  Noman Hai , Experience:  15 years\n"
     ]
    }
   ],
   "source": [
    "inst1.displayInstructor()"
   ]
  },
  {
   "cell_type": "code",
   "execution_count": 18,
   "metadata": {
    "scrolled": true
   },
   "outputs": [
    {
     "name": "stdout",
     "output_type": "stream",
     "text": [
      "Name :  Suleman Akber , Experience:  16 years\n"
     ]
    }
   ],
   "source": [
    "inst2.displayInstructor()"
   ]
  },
  {
   "cell_type": "code",
   "execution_count": 19,
   "metadata": {
    "scrolled": true
   },
   "outputs": [
    {
     "name": "stdout",
     "output_type": "stream",
     "text": [
      "Total Xcel Instructors 2\n"
     ]
    }
   ],
   "source": [
    "inst1.displayCount()"
   ]
  },
  {
   "cell_type": "code",
   "execution_count": 23,
   "metadata": {},
   "outputs": [],
   "source": [
    "class tempXcelInstructor(xallInstructor): #defining child class\n",
    "    def __init__(self):\n",
    "      print(\"Calling child constructor\")\n",
    "\n",
    "    def childMethod(self):\n",
    "      print('Temprory Instructor')"
   ]
  },
  {
   "cell_type": "code",
   "execution_count": 24,
   "metadata": {},
   "outputs": [
    {
     "name": "stdout",
     "output_type": "stream",
     "text": [
      "Calling child constructor\n"
     ]
    }
   ],
   "source": [
    "inst3 = tempXcelInstructor()"
   ]
  },
  {
   "cell_type": "code",
   "execution_count": 26,
   "metadata": {},
   "outputs": [
    {
     "name": "stdout",
     "output_type": "stream",
     "text": [
      "Total Xcel Instructors 2\n"
     ]
    }
   ],
   "source": [
    "inst3.displayCount()"
   ]
  },
  {
   "cell_type": "code",
   "execution_count": 28,
   "metadata": {},
   "outputs": [
    {
     "name": "stdout",
     "output_type": "stream",
     "text": [
      "Temprory Instructor\n"
     ]
    }
   ],
   "source": [
    "inst3.childMethod()"
   ]
  }
 ],
 "metadata": {
  "kernelspec": {
   "display_name": "Python 3",
   "language": "python",
   "name": "python3"
  },
  "language_info": {
   "codemirror_mode": {
    "name": "ipython",
    "version": 3
   },
   "file_extension": ".py",
   "mimetype": "text/x-python",
   "name": "python",
   "nbconvert_exporter": "python",
   "pygments_lexer": "ipython3",
   "version": "3.7.0"
  }
 },
 "nbformat": 4,
 "nbformat_minor": 2
}
